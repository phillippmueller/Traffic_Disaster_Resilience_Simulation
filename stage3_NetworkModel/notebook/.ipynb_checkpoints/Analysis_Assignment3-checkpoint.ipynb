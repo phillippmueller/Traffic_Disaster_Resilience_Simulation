{
 "cells": [
  {
   "cell_type": "code",
   "execution_count": 173,
   "id": "740ab99e",
   "metadata": {},
   "outputs": [
    {
     "data": {
      "text/plain": [
       "'! pip install --upgrade matplotlib'"
      ]
     },
     "execution_count": 173,
     "metadata": {},
     "output_type": "execute_result"
    }
   ],
   "source": [
    "'''! pip install --upgrade networkx'''\n",
    "'''! pip install --upgrade matplotlib'''"
   ]
  },
  {
   "cell_type": "code",
   "execution_count": 154,
   "id": "1e2d4a0d-a867-4409-ac82-31ef98d548d2",
   "metadata": {},
   "outputs": [],
   "source": [
    "import networkx as nx\n",
    "import numpy as np\n",
    "import seaborn as sns\n",
    "%matplotlib inline\n",
    "import matplotlib.pyplot as plt\n",
    "from itertools import chain \n",
    "from operator import itemgetter"
   ]
  },
  {
   "attachments": {},
   "cell_type": "markdown",
   "id": "3aa54a33-ebb3-42bb-8dc4-5675972b470b",
   "metadata": {},
   "source": [
    "## Driving times "
   ]
  },
  {
   "cell_type": "code",
   "execution_count": 155,
   "id": "caace7fd-b75c-4b62-a3b2-1671d6c3a4ca",
   "metadata": {},
   "outputs": [
    {
     "data": {
      "text/html": [
       "<div>\n",
       "<style scoped>\n",
       "    .dataframe tbody tr th:only-of-type {\n",
       "        vertical-align: middle;\n",
       "    }\n",
       "\n",
       "    .dataframe tbody tr th {\n",
       "        vertical-align: top;\n",
       "    }\n",
       "\n",
       "    .dataframe thead th {\n",
       "        text-align: right;\n",
       "    }\n",
       "</style>\n",
       "<table border=\"1\" class=\"dataframe\">\n",
       "  <thead>\n",
       "    <tr style=\"text-align: right;\">\n",
       "      <th></th>\n",
       "      <th>prob_A</th>\n",
       "      <th>prob_B</th>\n",
       "      <th>prob_C</th>\n",
       "      <th>prob_D</th>\n",
       "      <th>Run</th>\n",
       "      <th>Average driving time</th>\n",
       "      <th>Probs</th>\n",
       "      <th>Worst bridge delay</th>\n",
       "      <th>Worst bridge name</th>\n",
       "    </tr>\n",
       "  </thead>\n",
       "  <tbody>\n",
       "    <tr>\n",
       "      <th>0</th>\n",
       "      <td>0.0</td>\n",
       "      <td>0.0</td>\n",
       "      <td>0.0</td>\n",
       "      <td>0.0</td>\n",
       "      <td>0</td>\n",
       "      <td>387.226003</td>\n",
       "      <td>{'A': 0, 'B': 0, 'C': 0, 'D': 0}</td>\n",
       "      <td>0.0</td>\n",
       "      <td>bridge at id 1004</td>\n",
       "    </tr>\n",
       "    <tr>\n",
       "      <th>1</th>\n",
       "      <td>0.0</td>\n",
       "      <td>0.0</td>\n",
       "      <td>0.0</td>\n",
       "      <td>0.0</td>\n",
       "      <td>1</td>\n",
       "      <td>387.441454</td>\n",
       "      <td>{'A': 0, 'B': 0, 'C': 0, 'D': 0}</td>\n",
       "      <td>0.0</td>\n",
       "      <td>bridge at id 1004</td>\n",
       "    </tr>\n",
       "    <tr>\n",
       "      <th>2</th>\n",
       "      <td>0.0</td>\n",
       "      <td>0.0</td>\n",
       "      <td>0.0</td>\n",
       "      <td>0.0</td>\n",
       "      <td>2</td>\n",
       "      <td>387.489698</td>\n",
       "      <td>{'A': 0, 'B': 0, 'C': 0, 'D': 0}</td>\n",
       "      <td>0.0</td>\n",
       "      <td>bridge at id 1004</td>\n",
       "    </tr>\n",
       "    <tr>\n",
       "      <th>3</th>\n",
       "      <td>0.0</td>\n",
       "      <td>0.0</td>\n",
       "      <td>0.0</td>\n",
       "      <td>0.0</td>\n",
       "      <td>3</td>\n",
       "      <td>387.238692</td>\n",
       "      <td>{'A': 0, 'B': 0, 'C': 0, 'D': 0}</td>\n",
       "      <td>0.0</td>\n",
       "      <td>bridge at id 1004</td>\n",
       "    </tr>\n",
       "    <tr>\n",
       "      <th>4</th>\n",
       "      <td>0.0</td>\n",
       "      <td>0.0</td>\n",
       "      <td>0.0</td>\n",
       "      <td>0.0</td>\n",
       "      <td>4</td>\n",
       "      <td>385.501432</td>\n",
       "      <td>{'A': 0, 'B': 0, 'C': 0, 'D': 0}</td>\n",
       "      <td>0.0</td>\n",
       "      <td>bridge at id 1004</td>\n",
       "    </tr>\n",
       "  </tbody>\n",
       "</table>\n",
       "</div>"
      ],
      "text/plain": [
       "   prob_A  prob_B  prob_C  prob_D  Run  Average driving time  \\\n",
       "0     0.0     0.0     0.0     0.0    0            387.226003   \n",
       "1     0.0     0.0     0.0     0.0    1            387.441454   \n",
       "2     0.0     0.0     0.0     0.0    2            387.489698   \n",
       "3     0.0     0.0     0.0     0.0    3            387.238692   \n",
       "4     0.0     0.0     0.0     0.0    4            385.501432   \n",
       "\n",
       "                              Probs  Worst bridge delay  Worst bridge name  \n",
       "0  {'A': 0, 'B': 0, 'C': 0, 'D': 0}                 0.0  bridge at id 1004  \n",
       "1  {'A': 0, 'B': 0, 'C': 0, 'D': 0}                 0.0  bridge at id 1004  \n",
       "2  {'A': 0, 'B': 0, 'C': 0, 'D': 0}                 0.0  bridge at id 1004  \n",
       "3  {'A': 0, 'B': 0, 'C': 0, 'D': 0}                 0.0  bridge at id 1004  \n",
       "4  {'A': 0, 'B': 0, 'C': 0, 'D': 0}                 0.0  bridge at id 1004  "
      ]
     },
     "execution_count": 155,
     "metadata": {},
     "output_type": "execute_result"
    }
   ],
   "source": [
    "df = pd.read_csv(\"../data/all_scenarios.csv\").drop(columns=['Unnamed: 0'])\n",
    "df.head()"
   ]
  },
  {
   "cell_type": "code",
   "execution_count": 156,
   "id": "cc01151f",
   "metadata": {},
   "outputs": [
    {
     "data": {
      "text/plain": [
       "'\\'dfBar = pd.DataFrame(columns = [\"Scenario\", \"Variable\", \"Time\"])\\n\\nxlist = [0,10,20,30,40,50,60,70,80]\\n\\nfor x in xlist:\\n    scenario = xlist.index(x)\\n    ave = df.iloc[x:(x+10)][\"Average driving time\"].mean()\\n    maxx = df.iloc[x:(x+10)][\"Average driving time\"].max()\\n    minn = df.iloc[x:(x+10)][\"Average driving time\"].min()\\n    dfAve = pd.DataFrame([[scenario,\"Average driving time\", ave]], columns = [\"Scenario\", \"Variable\", \"Time\"])\\n    dfMaxx = pd.DataFrame([[scenario,\"Average driving time\", maxx]], columns = [\"Scenario\", \"Variable\", \"Time\"])\\n    dfMinn = pd.DataFrame([[scenario,\"Average driving time\", minn]], columns = [\"Scenario\", \"Variable\", \"Time\"])\\n    \\n    dfBar = dfBar.append(dfAve)\\n    dfBar = dfBar.append(dfMaxx)\\n    dfBar = dfBar.append(dfMinn)\\ndfBar.head()'"
      ]
     },
     "execution_count": 156,
     "metadata": {},
     "output_type": "execute_result"
    }
   ],
   "source": [
    "''''dfBar = pd.DataFrame(columns = [\"Scenario\", \"Variable\", \"Time\"])\n",
    "\n",
    "xlist = [0,10,20,30,40,50,60,70,80]\n",
    "\n",
    "for x in xlist:\n",
    "    scenario = xlist.index(x)\n",
    "    ave = df.iloc[x:(x+10)][\"Average driving time\"].mean()\n",
    "    maxx = df.iloc[x:(x+10)][\"Average driving time\"].max()\n",
    "    minn = df.iloc[x:(x+10)][\"Average driving time\"].min()\n",
    "    dfAve = pd.DataFrame([[scenario,\"Average driving time\", ave]], columns = [\"Scenario\", \"Variable\", \"Time\"])\n",
    "    dfMaxx = pd.DataFrame([[scenario,\"Average driving time\", maxx]], columns = [\"Scenario\", \"Variable\", \"Time\"])\n",
    "    dfMinn = pd.DataFrame([[scenario,\"Average driving time\", minn]], columns = [\"Scenario\", \"Variable\", \"Time\"])\n",
    "    \n",
    "    dfBar = dfBar.append(dfAve)\n",
    "    dfBar = dfBar.append(dfMaxx)\n",
    "    dfBar = dfBar.append(dfMinn)\n",
    "dfBar.head()'''"
   ]
  },
  {
   "cell_type": "code",
   "execution_count": 157,
   "id": "4b69a501-0313-4892-bbe8-bfc18990e901",
   "metadata": {
    "tags": []
   },
   "outputs": [
    {
     "name": "stderr",
     "output_type": "stream",
     "text": [
      "/var/folders/67/z86xx6d17h73gd6gbk3_m8jw0000gn/T/ipykernel_5121/3727242917.py:18: FutureWarning: The frame.append method is deprecated and will be removed from pandas in a future version. Use pandas.concat instead.\n",
      "  df_result = df_result.append(min_fill)\n",
      "/var/folders/67/z86xx6d17h73gd6gbk3_m8jw0000gn/T/ipykernel_5121/3727242917.py:19: FutureWarning: The frame.append method is deprecated and will be removed from pandas in a future version. Use pandas.concat instead.\n",
      "  df_result = df_result.append(dfAve)\n",
      "/var/folders/67/z86xx6d17h73gd6gbk3_m8jw0000gn/T/ipykernel_5121/3727242917.py:20: FutureWarning: The frame.append method is deprecated and will be removed from pandas in a future version. Use pandas.concat instead.\n",
      "  df_result = df_result.append(max_fill)\n",
      "/var/folders/67/z86xx6d17h73gd6gbk3_m8jw0000gn/T/ipykernel_5121/3727242917.py:18: FutureWarning: The frame.append method is deprecated and will be removed from pandas in a future version. Use pandas.concat instead.\n",
      "  df_result = df_result.append(min_fill)\n",
      "/var/folders/67/z86xx6d17h73gd6gbk3_m8jw0000gn/T/ipykernel_5121/3727242917.py:19: FutureWarning: The frame.append method is deprecated and will be removed from pandas in a future version. Use pandas.concat instead.\n",
      "  df_result = df_result.append(dfAve)\n",
      "/var/folders/67/z86xx6d17h73gd6gbk3_m8jw0000gn/T/ipykernel_5121/3727242917.py:20: FutureWarning: The frame.append method is deprecated and will be removed from pandas in a future version. Use pandas.concat instead.\n",
      "  df_result = df_result.append(max_fill)\n",
      "/var/folders/67/z86xx6d17h73gd6gbk3_m8jw0000gn/T/ipykernel_5121/3727242917.py:18: FutureWarning: The frame.append method is deprecated and will be removed from pandas in a future version. Use pandas.concat instead.\n",
      "  df_result = df_result.append(min_fill)\n",
      "/var/folders/67/z86xx6d17h73gd6gbk3_m8jw0000gn/T/ipykernel_5121/3727242917.py:19: FutureWarning: The frame.append method is deprecated and will be removed from pandas in a future version. Use pandas.concat instead.\n",
      "  df_result = df_result.append(dfAve)\n",
      "/var/folders/67/z86xx6d17h73gd6gbk3_m8jw0000gn/T/ipykernel_5121/3727242917.py:20: FutureWarning: The frame.append method is deprecated and will be removed from pandas in a future version. Use pandas.concat instead.\n",
      "  df_result = df_result.append(max_fill)\n",
      "/var/folders/67/z86xx6d17h73gd6gbk3_m8jw0000gn/T/ipykernel_5121/3727242917.py:18: FutureWarning: The frame.append method is deprecated and will be removed from pandas in a future version. Use pandas.concat instead.\n",
      "  df_result = df_result.append(min_fill)\n",
      "/var/folders/67/z86xx6d17h73gd6gbk3_m8jw0000gn/T/ipykernel_5121/3727242917.py:19: FutureWarning: The frame.append method is deprecated and will be removed from pandas in a future version. Use pandas.concat instead.\n",
      "  df_result = df_result.append(dfAve)\n",
      "/var/folders/67/z86xx6d17h73gd6gbk3_m8jw0000gn/T/ipykernel_5121/3727242917.py:20: FutureWarning: The frame.append method is deprecated and will be removed from pandas in a future version. Use pandas.concat instead.\n",
      "  df_result = df_result.append(max_fill)\n",
      "/var/folders/67/z86xx6d17h73gd6gbk3_m8jw0000gn/T/ipykernel_5121/3727242917.py:18: FutureWarning: The frame.append method is deprecated and will be removed from pandas in a future version. Use pandas.concat instead.\n",
      "  df_result = df_result.append(min_fill)\n",
      "/var/folders/67/z86xx6d17h73gd6gbk3_m8jw0000gn/T/ipykernel_5121/3727242917.py:19: FutureWarning: The frame.append method is deprecated and will be removed from pandas in a future version. Use pandas.concat instead.\n",
      "  df_result = df_result.append(dfAve)\n",
      "/var/folders/67/z86xx6d17h73gd6gbk3_m8jw0000gn/T/ipykernel_5121/3727242917.py:20: FutureWarning: The frame.append method is deprecated and will be removed from pandas in a future version. Use pandas.concat instead.\n",
      "  df_result = df_result.append(max_fill)\n"
     ]
    },
    {
     "data": {
      "text/html": [
       "<div>\n",
       "<style scoped>\n",
       "    .dataframe tbody tr th:only-of-type {\n",
       "        vertical-align: middle;\n",
       "    }\n",
       "\n",
       "    .dataframe tbody tr th {\n",
       "        vertical-align: top;\n",
       "    }\n",
       "\n",
       "    .dataframe thead th {\n",
       "        text-align: right;\n",
       "    }\n",
       "</style>\n",
       "<table border=\"1\" class=\"dataframe\">\n",
       "  <thead>\n",
       "    <tr style=\"text-align: right;\">\n",
       "      <th></th>\n",
       "      <th>Scenario</th>\n",
       "      <th>Variable</th>\n",
       "      <th>Time</th>\n",
       "    </tr>\n",
       "  </thead>\n",
       "  <tbody>\n",
       "    <tr>\n",
       "      <th>0</th>\n",
       "      <td>0</td>\n",
       "      <td>Average driving time</td>\n",
       "      <td>389.241798</td>\n",
       "    </tr>\n",
       "    <tr>\n",
       "      <th>0</th>\n",
       "      <td>0</td>\n",
       "      <td>Average driving time</td>\n",
       "      <td>387.251584</td>\n",
       "    </tr>\n",
       "    <tr>\n",
       "      <th>0</th>\n",
       "      <td>0</td>\n",
       "      <td>Average driving time</td>\n",
       "      <td>385.501432</td>\n",
       "    </tr>\n",
       "    <tr>\n",
       "      <th>0</th>\n",
       "      <td>1</td>\n",
       "      <td>Average driving time</td>\n",
       "      <td>435.944689</td>\n",
       "    </tr>\n",
       "    <tr>\n",
       "      <th>0</th>\n",
       "      <td>1</td>\n",
       "      <td>Average driving time</td>\n",
       "      <td>411.143032</td>\n",
       "    </tr>\n",
       "  </tbody>\n",
       "</table>\n",
       "</div>"
      ],
      "text/plain": [
       "  Scenario              Variable        Time\n",
       "0        0  Average driving time  389.241798\n",
       "0        0  Average driving time  387.251584\n",
       "0        0  Average driving time  385.501432\n",
       "0        1  Average driving time  435.944689\n",
       "0        1  Average driving time  411.143032"
      ]
     },
     "execution_count": 157,
     "metadata": {},
     "output_type": "execute_result"
    }
   ],
   "source": [
    "df_result = pd.DataFrame(columns = [\"Scenario\", \"Variable\", \"Time\"])\n",
    "\n",
    "xlist = [0,10,20,30,40]\n",
    "\n",
    "for x in xlist:\n",
    "    scenario = xlist.index(x)\n",
    "    ave = df.iloc[x:(x+10)][\"Average driving time\"].mean()\n",
    "    maxx = df.iloc[x:(x+10)][\"Average driving time\"].max()\n",
    "    minn = df.iloc[x:(x+10)][\"Average driving time\"].min()\n",
    "    dfAve = pd.DataFrame([[scenario,\"Average driving time\", ave]], columns = [\"Scenario\", \"Variable\", \"Time\"])\n",
    "    # incldue min and max values with hue=\"Average driving time\", for seaborn to plot shaded areas (see plot below)\n",
    "    min_fill = pd.DataFrame([[scenario,\"Average driving time\", maxx]], columns = [\"Scenario\", \"Variable\", \"Time\"])\n",
    "    max_fill = pd.DataFrame([[scenario,\"Average driving time\", minn]], columns = [\"Scenario\", \"Variable\", \"Time\"])\n",
    "    # include min and max values again with correct hues, for seaborn to plot distinct min and max plot lines (see plot below)\n",
    "    '''dfmin = pd.DataFrame([[scenario,\"Minimum driving time\", minn]], columns =[\"Scenario\", \"Variable\", \"Time\"])\n",
    "    dfmax = pd.DataFrame([[scenario,\"Maximum driving time\", maxx]], columns =[\"Scenario\", \"Variable\", \"Time\"])'''\n",
    "\n",
    "    df_result = df_result.append(min_fill)\n",
    "    df_result = df_result.append(dfAve)\n",
    "    df_result = df_result.append(max_fill)\n",
    "    '''df_result = df_result.append(dfmin)\n",
    "    df_result = df_result.append(dfmax)'''\n",
    "\n",
    "df_result.head()"
   ]
  },
  {
   "cell_type": "code",
   "execution_count": 158,
   "id": "7a7707c8",
   "metadata": {},
   "outputs": [
    {
     "data": {
      "image/png": "[encoded data removed]",
      "text/plain": [
       "<Figure size 640x480 with 1 Axes>"
      ]
     },
     "metadata": {},
     "output_type": "display_data"
    }
   ],
   "source": [
    "sns.set_style('darkgrid')\n",
    "sns.barplot(x='Scenario', y='Time', hue='Variable', data=df_result, palette='crest')\n",
    "\n",
    "\n",
    "# fill space between minimum and maximum drive time \n",
    "#ax.fill_between(df_result,\n",
    " #               y1=df_result.loc[(df_result['Variable']=='Minimum driving time')].drop(columns=['Scenario','Variable']))#,\n",
    "               # y2=df_result.loc[(df_result['Variable']=='Maximum driving time')].drop(columns=['Scenario','Variable']))\n",
    "plt.suptitle('Average time per scenario')\n",
    "plt.title('Error bars show spread between shortest and longest drive')\n",
    "plt.savefig('driving_time.png')"
   ]
  },
  {
   "cell_type": "code",
   "execution_count": 159,
   "id": "e63b013d-74cb-416d-a7c1-e65efe6edce1",
   "metadata": {},
   "outputs": [
    {
     "data": {
      "image/png": "[encoded data removed]",
      "text/plain": [
       "<Figure size 600x600 with 1 Axes>"
      ]
     },
     "metadata": {},
     "output_type": "display_data"
    }
   ],
   "source": [
    "g = sns.catplot(\n",
    "    data=df.tail(10), kind=\"bar\",\n",
    "    x=\"Run\", y=\"Average driving time\", errorbar=\"sd\", palette=\"crest\", alpha=1, height=6)\n",
    "g.despine(left=True)\n",
    "g.set_axis_labels(\"Run\", \"Average driving time\")\n",
    "sns.lineplot(x = [-1,10], y=387.251584, color='orangered')\n",
    "plt.title('Driving times: Comparing baseline (orange) to all runs in Scenario 4')\n",
    "plt.savefig('scenarios_one_eight.png')"
   ]
  },
  {
   "cell_type": "markdown",
   "id": "5b57eed3-c32b-43ea-a341-fe2e80693232",
   "metadata": {},
   "source": [
    "## Delay Time "
   ]
  },
  {
   "cell_type": "code",
   "execution_count": 160,
   "id": "09c11721-8561-4785-b3bf-b043920473c9",
   "metadata": {},
   "outputs": [],
   "source": [
    "df_delay = pd.read_csv(\"../data/all_scenarios.csv\").drop(columns=['Unnamed: 0','prob_A','prob_B','prob_C','prob_D','Run','Probs'])"
   ]
  },
  {
   "cell_type": "code",
   "execution_count": 161,
   "id": "81bb8b74-c470-4062-b24a-0cd562740a54",
   "metadata": {},
   "outputs": [],
   "source": [
    "scenario = list([[i]*10 for i in range(0,5)])\n",
    "scenario = list(chain.from_iterable(scenario))\n",
    "df_delay['Scenario'] = scenario"
   ]
  },
  {
   "cell_type": "code",
   "execution_count": 162,
   "id": "3b478706-f512-45ec-9fde-0d2b45b62f0e",
   "metadata": {},
   "outputs": [],
   "source": [
    "df_delay = df_delay.rename(columns={'Worst bridge delay':'delay time'})"
   ]
  },
  {
   "cell_type": "code",
   "execution_count": 163,
   "id": "35b320ce-370c-4a7c-9d7b-4ccdcf23f379",
   "metadata": {},
   "outputs": [
    {
     "data": {
      "image/png": "[encoded data removed]",
      "text/plain": [
       "<Figure size 640x480 with 1 Axes>"
      ]
     },
     "metadata": {},
     "output_type": "display_data"
    }
   ],
   "source": [
    "sns.barplot(x='Scenario',y='delay time', data=df_delay, palette='crest');\n",
    "plt.suptitle('delay times per scenario')\n",
    "plt.title('Error bars show spread of delay times')\n",
    "plt.savefig('delay_time.png')"
   ]
  },
  {
   "cell_type": "markdown",
   "id": "c6a70437-8431-4363-b328-e00030390fa2",
   "metadata": {},
   "source": [
    "## Bridges"
   ]
  },
  {
   "cell_type": "code",
   "execution_count": 164,
   "id": "27e2b79a-2053-4689-8b39-4b6037ac0f74",
   "metadata": {},
   "outputs": [
    {
     "data": {
      "text/plain": [
       "(36, 9)"
      ]
     },
     "execution_count": 164,
     "metadata": {},
     "output_type": "execute_result"
    }
   ],
   "source": [
    "df = pd.read_csv(\"../data/all_scenarios.csv\").drop(columns=['Unnamed: 0'])\n",
    "df_sorted = df.sort_values(by = \"Worst bridge delay\", ascending=False).drop_duplicates(subset = 'Worst bridge name')\n",
    "df_sorted.shape"
   ]
  },
  {
   "cell_type": "code",
   "execution_count": 165,
   "id": "e6c110ab-fdd3-4e5f-a187-fa5edb50c17d",
   "metadata": {
    "tags": []
   },
   "outputs": [
    {
     "data": {
      "text/plain": [
       "NORTH NAGDA SLAB CULVERT        2\n",
       "SHOMO PUR BOX CULVERT           2\n",
       "SHATORA RCC GIDER BRIDGE        2\n",
       "OKYIA STATION                   2\n",
       "MANDAR GRAM BOX CULVERT         2\n",
       "NABAKALASH                      1\n",
       "LAXMISORA BRIDGE                1\n",
       "PACH GORIA SLAB CULVERT         1\n",
       "POLARGHAT BAZAR BRIDGE          1\n",
       "ROJUBPUR BRIDGE BOX CULVERT     1\n",
       "SHANTIR HAT                     1\n",
       "UKLIA-SHAHABMARKAT              1\n",
       "Kutalpur Bridge                 1\n",
       "Mokam Bazar Box Culvert         1\n",
       "MONU PC GIRDER BRIDGE           1\n",
       "KAKUM TOLI CHACK BOX CULVERT    1\n",
       "Elaspur steal deck              1\n",
       "JAMALPUR                        1\n",
       "KORER HAT BAZER                 1\n",
       "DARMACHPUR CULVERT              1\n",
       "BALU KHALI -2 BOX CULVERT       1\n",
       "KALIBARI RCC GIDER BRIDGE       1\n",
       "PALONG KHALI BAZAR BRIDGE       1\n",
       "PRAIL GRAM BRIDGE               1\n",
       "KANORAM SLAB CULVERT            1\n",
       "ALAMDARPARA BOX CULVERT         1\n",
       "TOWN HALL MORE CULVERT          1\n",
       "BARIPOLE BOX                    1\n",
       "BOLG BAILEY WITH STEEL DECK     1\n",
       "Daribisnondi                    1\n",
       "MORICHIA                        1\n",
       "Momtazer Bathroom               1\n",
       "ROUTH BAG BOX CULVERT           1\n",
       "MONSIR HAT BAZAR CULVERT        1\n",
       "KOWKIA BOX CULVERT              1\n",
       "Name: Worst bridge name, dtype: int64"
      ]
     },
     "execution_count": 165,
     "metadata": {},
     "output_type": "execute_result"
    }
   ],
   "source": [
    "df_bridge_count = df[df[\"Worst bridge delay\"] != 0]\n",
    "df_bridge_count = df_bridge_count['Worst bridge name'].value_counts()\n",
    "df_bridge_count"
   ]
  },
  {
   "cell_type": "code",
   "execution_count": 166,
   "id": "3226cbda",
   "metadata": {},
   "outputs": [
    {
     "data": {
      "text/html": [
       "<div>\n",
       "<style scoped>\n",
       "    .dataframe tbody tr th:only-of-type {\n",
       "        vertical-align: middle;\n",
       "    }\n",
       "\n",
       "    .dataframe tbody tr th {\n",
       "        vertical-align: top;\n",
       "    }\n",
       "\n",
       "    .dataframe thead th {\n",
       "        text-align: right;\n",
       "    }\n",
       "</style>\n",
       "<table border=\"1\" class=\"dataframe\">\n",
       "  <thead>\n",
       "    <tr style=\"text-align: right;\">\n",
       "      <th></th>\n",
       "      <th>road</th>\n",
       "      <th>id</th>\n",
       "      <th>model_type</th>\n",
       "      <th>condition</th>\n",
       "      <th>name</th>\n",
       "      <th>lat</th>\n",
       "      <th>lon</th>\n",
       "      <th>length</th>\n",
       "      <th>bridge_name</th>\n",
       "    </tr>\n",
       "  </thead>\n",
       "  <tbody>\n",
       "    <tr>\n",
       "      <th>0</th>\n",
       "      <td>N1</td>\n",
       "      <td>1000</td>\n",
       "      <td>sourcesink</td>\n",
       "      <td>NaN</td>\n",
       "      <td>SoSi1</td>\n",
       "      <td>23.706028</td>\n",
       "      <td>90.443333</td>\n",
       "      <td>0.0</td>\n",
       "      <td>NaN</td>\n",
       "    </tr>\n",
       "    <tr>\n",
       "      <th>1</th>\n",
       "      <td>N1</td>\n",
       "      <td>1001</td>\n",
       "      <td>link</td>\n",
       "      <td>NaN</td>\n",
       "      <td>NaN</td>\n",
       "      <td>23.702917</td>\n",
       "      <td>90.450417</td>\n",
       "      <td>814.0</td>\n",
       "      <td>NaN</td>\n",
       "    </tr>\n",
       "    <tr>\n",
       "      <th>2</th>\n",
       "      <td>N1</td>\n",
       "      <td>1002</td>\n",
       "      <td>link</td>\n",
       "      <td>NaN</td>\n",
       "      <td>NaN</td>\n",
       "      <td>23.702778</td>\n",
       "      <td>90.450472</td>\n",
       "      <td>8.0</td>\n",
       "      <td>NaN</td>\n",
       "    </tr>\n",
       "    <tr>\n",
       "      <th>3</th>\n",
       "      <td>N1</td>\n",
       "      <td>1003</td>\n",
       "      <td>link</td>\n",
       "      <td>NaN</td>\n",
       "      <td>NaN</td>\n",
       "      <td>23.702139</td>\n",
       "      <td>90.451972</td>\n",
       "      <td>178.0</td>\n",
       "      <td>NaN</td>\n",
       "    </tr>\n",
       "    <tr>\n",
       "      <th>4</th>\n",
       "      <td>N1</td>\n",
       "      <td>1004</td>\n",
       "      <td>bridge</td>\n",
       "      <td>A</td>\n",
       "      <td>NaN</td>\n",
       "      <td>23.698739</td>\n",
       "      <td>90.458861</td>\n",
       "      <td>11.3</td>\n",
       "      <td>bridge at id 1004</td>\n",
       "    </tr>\n",
       "  </tbody>\n",
       "</table>\n",
       "</div>"
      ],
      "text/plain": [
       "  road    id  model_type condition   name        lat        lon  length  \\\n",
       "0   N1  1000  sourcesink       NaN  SoSi1  23.706028  90.443333     0.0   \n",
       "1   N1  1001        link       NaN    NaN  23.702917  90.450417   814.0   \n",
       "2   N1  1002        link       NaN    NaN  23.702778  90.450472     8.0   \n",
       "3   N1  1003        link       NaN    NaN  23.702139  90.451972   178.0   \n",
       "4   N1  1004      bridge         A    NaN  23.698739  90.458861    11.3   \n",
       "\n",
       "         bridge_name  \n",
       "0                NaN  \n",
       "1                NaN  \n",
       "2                NaN  \n",
       "3                NaN  \n",
       "4  bridge at id 1004  "
      ]
     },
     "execution_count": 166,
     "metadata": {},
     "output_type": "execute_result"
    }
   ],
   "source": [
    "G = nx.Graph()\n",
    "df = pd.read_csv(\"../data/processed/N1_N2_plus_sideroads.csv\")\n",
    "df.head()"
   ]
  },
  {
   "cell_type": "code",
   "execution_count": 167,
   "id": "ce9366a0",
   "metadata": {},
   "outputs": [],
   "source": [
    "for i in range(len(df)):\n",
    "    G.add_node(df['id'][i], road=df['road'][i], length=df['length'][i], pos = [df['lon'][i],df['lat'][i]])"
   ]
  },
  {
   "cell_type": "code",
   "execution_count": 168,
   "id": "504dedf4",
   "metadata": {},
   "outputs": [],
   "source": [
    "intersection = df.loc[df['model_type'] == 'intersection']\n",
    "intersection = intersection.reset_index().drop(columns=['index'])"
   ]
  },
  {
   "cell_type": "code",
   "execution_count": 169,
   "id": "2b83ca62",
   "metadata": {},
   "outputs": [
    {
     "data": {
      "text/html": [
       "<div>\n",
       "<style scoped>\n",
       "    .dataframe tbody tr th:only-of-type {\n",
       "        vertical-align: middle;\n",
       "    }\n",
       "\n",
       "    .dataframe tbody tr th {\n",
       "        vertical-align: top;\n",
       "    }\n",
       "\n",
       "    .dataframe thead th {\n",
       "        text-align: right;\n",
       "    }\n",
       "</style>\n",
       "<table border=\"1\" class=\"dataframe\">\n",
       "  <thead>\n",
       "    <tr style=\"text-align: right;\">\n",
       "      <th></th>\n",
       "      <th>road</th>\n",
       "      <th>id</th>\n",
       "      <th>model_type</th>\n",
       "      <th>condition</th>\n",
       "      <th>name</th>\n",
       "      <th>lat</th>\n",
       "      <th>lon</th>\n",
       "      <th>length</th>\n",
       "      <th>bridge_name</th>\n",
       "    </tr>\n",
       "  </thead>\n",
       "  <tbody>\n",
       "    <tr>\n",
       "      <th>0</th>\n",
       "      <td>N1</td>\n",
       "      <td>6015</td>\n",
       "      <td>intersection</td>\n",
       "      <td>NaN</td>\n",
       "      <td>NaN</td>\n",
       "      <td>23.930027</td>\n",
       "      <td>90.452583</td>\n",
       "      <td>260.0</td>\n",
       "      <td>NaN</td>\n",
       "    </tr>\n",
       "    <tr>\n",
       "      <th>1</th>\n",
       "      <td>N1</td>\n",
       "      <td>1133</td>\n",
       "      <td>intersection</td>\n",
       "      <td>NaN</td>\n",
       "      <td>NaN</td>\n",
       "      <td>23.530805</td>\n",
       "      <td>90.781110</td>\n",
       "      <td>815.0</td>\n",
       "      <td>NaN</td>\n",
       "    </tr>\n",
       "    <tr>\n",
       "      <th>2</th>\n",
       "      <td>N1</td>\n",
       "      <td>1157</td>\n",
       "      <td>intersection</td>\n",
       "      <td>NaN</td>\n",
       "      <td>NaN</td>\n",
       "      <td>23.513111</td>\n",
       "      <td>90.870638</td>\n",
       "      <td>42.0</td>\n",
       "      <td>NaN</td>\n",
       "    </tr>\n",
       "    <tr>\n",
       "      <th>3</th>\n",
       "      <td>N1</td>\n",
       "      <td>1158</td>\n",
       "      <td>intersection</td>\n",
       "      <td>NaN</td>\n",
       "      <td>NaN</td>\n",
       "      <td>23.512667</td>\n",
       "      <td>90.871416</td>\n",
       "      <td>102.0</td>\n",
       "      <td>NaN</td>\n",
       "    </tr>\n",
       "    <tr>\n",
       "      <th>4</th>\n",
       "      <td>N1</td>\n",
       "      <td>1209</td>\n",
       "      <td>intersection</td>\n",
       "      <td>NaN</td>\n",
       "      <td>NaN</td>\n",
       "      <td>23.478972</td>\n",
       "      <td>91.117999</td>\n",
       "      <td>28.0</td>\n",
       "      <td>NaN</td>\n",
       "    </tr>\n",
       "    <tr>\n",
       "      <th>...</th>\n",
       "      <td>...</td>\n",
       "      <td>...</td>\n",
       "      <td>...</td>\n",
       "      <td>...</td>\n",
       "      <td>...</td>\n",
       "      <td>...</td>\n",
       "      <td>...</td>\n",
       "      <td>...</td>\n",
       "      <td>...</td>\n",
       "    </tr>\n",
       "    <tr>\n",
       "      <th>82</th>\n",
       "      <td>Z1065</td>\n",
       "      <td>7716</td>\n",
       "      <td>intersection</td>\n",
       "      <td>NaN</td>\n",
       "      <td>NaN</td>\n",
       "      <td>22.374638</td>\n",
       "      <td>91.906278</td>\n",
       "      <td>200.0</td>\n",
       "      <td>NaN</td>\n",
       "    </tr>\n",
       "    <tr>\n",
       "      <th>83</th>\n",
       "      <td>Z1065</td>\n",
       "      <td>7716</td>\n",
       "      <td>intersection</td>\n",
       "      <td>NaN</td>\n",
       "      <td>NaN</td>\n",
       "      <td>22.374638</td>\n",
       "      <td>91.906278</td>\n",
       "      <td>20.0</td>\n",
       "      <td>NaN</td>\n",
       "    </tr>\n",
       "    <tr>\n",
       "      <th>84</th>\n",
       "      <td>Z1098</td>\n",
       "      <td>2554</td>\n",
       "      <td>intersection</td>\n",
       "      <td>NaN</td>\n",
       "      <td>NaN</td>\n",
       "      <td>20.862917</td>\n",
       "      <td>92.298083</td>\n",
       "      <td>405.0</td>\n",
       "      <td>NaN</td>\n",
       "    </tr>\n",
       "    <tr>\n",
       "      <th>85</th>\n",
       "      <td>Z1402</td>\n",
       "      <td>1133</td>\n",
       "      <td>intersection</td>\n",
       "      <td>NaN</td>\n",
       "      <td>NaN</td>\n",
       "      <td>23.530805</td>\n",
       "      <td>90.781110</td>\n",
       "      <td>577.0</td>\n",
       "      <td>NaN</td>\n",
       "    </tr>\n",
       "    <tr>\n",
       "      <th>86</th>\n",
       "      <td>Z2013</td>\n",
       "      <td>3811</td>\n",
       "      <td>intersection</td>\n",
       "      <td>NaN</td>\n",
       "      <td>NaN</td>\n",
       "      <td>24.867305</td>\n",
       "      <td>91.856806</td>\n",
       "      <td>0.0</td>\n",
       "      <td>NaN</td>\n",
       "    </tr>\n",
       "  </tbody>\n",
       "</table>\n",
       "<p>87 rows × 9 columns</p>\n",
       "</div>"
      ],
      "text/plain": [
       "     road    id    model_type condition name        lat        lon  length  \\\n",
       "0      N1  6015  intersection       NaN  NaN  23.930027  90.452583   260.0   \n",
       "1      N1  1133  intersection       NaN  NaN  23.530805  90.781110   815.0   \n",
       "2      N1  1157  intersection       NaN  NaN  23.513111  90.870638    42.0   \n",
       "3      N1  1158  intersection       NaN  NaN  23.512667  90.871416   102.0   \n",
       "4      N1  1209  intersection       NaN  NaN  23.478972  91.117999    28.0   \n",
       "..    ...   ...           ...       ...  ...        ...        ...     ...   \n",
       "82  Z1065  7716  intersection       NaN  NaN  22.374638  91.906278   200.0   \n",
       "83  Z1065  7716  intersection       NaN  NaN  22.374638  91.906278    20.0   \n",
       "84  Z1098  2554  intersection       NaN  NaN  20.862917  92.298083   405.0   \n",
       "85  Z1402  1133  intersection       NaN  NaN  23.530805  90.781110   577.0   \n",
       "86  Z2013  3811  intersection       NaN  NaN  24.867305  91.856806     0.0   \n",
       "\n",
       "   bridge_name  \n",
       "0          NaN  \n",
       "1          NaN  \n",
       "2          NaN  \n",
       "3          NaN  \n",
       "4          NaN  \n",
       "..         ...  \n",
       "82         NaN  \n",
       "83         NaN  \n",
       "84         NaN  \n",
       "85         NaN  \n",
       "86         NaN  \n",
       "\n",
       "[87 rows x 9 columns]"
      ]
     },
     "execution_count": 169,
     "metadata": {},
     "output_type": "execute_result"
    }
   ],
   "source": [
    "intersection"
   ]
  },
  {
   "cell_type": "code",
   "execution_count": 170,
   "id": "4f0215ca",
   "metadata": {},
   "outputs": [],
   "source": [
    "previousnode = -1\n",
    "\n",
    "for i,row in df.iterrows():\n",
    "    if previousnode != -1:\n",
    "        if row['road'] == df.iloc[previousnode,0]:\n",
    "            G.add_edge(df.iloc[previousnode,1], row['id'], weight=row['length'])\n",
    "    previousnode = i\n",
    "pos = nx.get_node_attributes(G,'pos')\n"
   ]
  },
  {
   "cell_type": "code",
   "execution_count": 171,
   "id": "9d7fda6a",
   "metadata": {},
   "outputs": [
    {
     "ename": "TypeError",
     "evalue": "'_AxesStack' object is not callable",
     "output_type": "error",
     "traceback": [
      "\u001b[0;31m---------------------------------------------------------------------------\u001b[0m",
      "\u001b[0;31mTypeError\u001b[0m                                 Traceback (most recent call last)",
      "Cell \u001b[0;32mIn[171], line 1\u001b[0m\n\u001b[0;32m----> 1\u001b[0m nx\u001b[39m.\u001b[39;49mdraw(G)\n",
      "File \u001b[0;32m~/opt/anaconda3/envs/gds/lib/python3.9/site-packages/networkx/drawing/nx_pylab.py:113\u001b[0m, in \u001b[0;36mdraw\u001b[0;34m(G, pos, ax, **kwds)\u001b[0m\n\u001b[1;32m    111\u001b[0m cf\u001b[39m.\u001b[39mset_facecolor(\u001b[39m\"\u001b[39m\u001b[39mw\u001b[39m\u001b[39m\"\u001b[39m)\n\u001b[1;32m    112\u001b[0m \u001b[39mif\u001b[39;00m ax \u001b[39mis\u001b[39;00m \u001b[39mNone\u001b[39;00m:\n\u001b[0;32m--> 113\u001b[0m     \u001b[39mif\u001b[39;00m cf\u001b[39m.\u001b[39;49m_axstack() \u001b[39mis\u001b[39;00m \u001b[39mNone\u001b[39;00m:\n\u001b[1;32m    114\u001b[0m         ax \u001b[39m=\u001b[39m cf\u001b[39m.\u001b[39madd_axes((\u001b[39m0\u001b[39m, \u001b[39m0\u001b[39m, \u001b[39m1\u001b[39m, \u001b[39m1\u001b[39m))\n\u001b[1;32m    115\u001b[0m     \u001b[39melse\u001b[39;00m:\n",
      "\u001b[0;31mTypeError\u001b[0m: '_AxesStack' object is not callable"
     ]
    },
    {
     "data": {
      "text/plain": [
       "<Figure size 640x480 with 0 Axes>"
      ]
     },
     "metadata": {},
     "output_type": "display_data"
    }
   ],
   "source": [
    "nx.draw(G)"
   ]
  },
  {
   "cell_type": "code",
   "execution_count": 64,
   "id": "36661de7-7595-4adf-832e-979812b21266",
   "metadata": {},
   "outputs": [],
   "source": [
    "worst_bridges = df.loc[(df[\"Worst bridge name\"] == \"KANCHPUR PC GIRDER BRIDGE\") | \n",
    "                               (df[\"Worst bridge name\"] == \"MEGHNA BRIDGE\") | \n",
    "                               (df[\"Worst bridge name\"] == \"Ginlatoly\") | \n",
    "                               (df[\"Worst bridge name\"] == \"Daud Kandi Bridge\") | \n",
    "                               (df[\"Worst bridge name\"] == \"BORO KUMIRA BRIDGE\") | \n",
    "                               (df[\"Worst bridge name\"] == \"BDHOOM GHAT PC GIRDER\") | \n",
    "                               (df[\"Worst bridge name\"] == \"MOLLIK PARA BRIDGE (R)\") | \n",
    "                               (df[\"Worst bridge name\"] == \"SALAKHARPAD BRIDGE\") | \n",
    "                               (df[\"Worst bridge name\"] == \"ISAMATI BOX CULVERT\") | \n",
    "                               (df[\"Worst bridge name\"] == \"MUHURI BRIDGE\") | \n",
    "                               (df[\"Worst bridge name\"] == \"BAROCONDO BRIDGE\")]\n",
    "worst_bridges = worst_bridges.sort_values(by='Worst bridge delay')"
   ]
  },
  {
   "cell_type": "code",
   "execution_count": 65,
   "id": "4f1f3686-c228-46e9-a32f-8898ae42c882",
   "metadata": {},
   "outputs": [
    {
     "ename": "ValueError",
     "evalue": "min() arg is an empty sequence",
     "output_type": "error",
     "traceback": [
      "\u001b[0;31m---------------------------------------------------------------------------\u001b[0m",
      "\u001b[0;31mValueError\u001b[0m                                Traceback (most recent call last)",
      "Cell \u001b[0;32mIn[65], line 8\u001b[0m\n\u001b[1;32m      5\u001b[0m sns\u001b[39m.\u001b[39mset_style(\u001b[39m'\u001b[39m\u001b[39mdarkgrid\u001b[39m\u001b[39m'\u001b[39m)\n\u001b[1;32m      6\u001b[0m \u001b[39m#sns.dark_palette(\"seagreen\", n_colors=len(worst_bridges), start=2)\u001b[39;00m\n\u001b[0;32m----> 8\u001b[0m ax \u001b[39m=\u001b[39m sns\u001b[39m.\u001b[39;49mbarplot(x\u001b[39m=\u001b[39;49m\u001b[39m'\u001b[39;49m\u001b[39mbridge name\u001b[39;49m\u001b[39m'\u001b[39;49m, y\u001b[39m=\u001b[39;49m\u001b[39m'\u001b[39;49m\u001b[39mdelay in hours\u001b[39;49m\u001b[39m'\u001b[39;49m, data\u001b[39m=\u001b[39;49mworst_bridges, palette\u001b[39m=\u001b[39;49m\u001b[39m'\u001b[39;49m\u001b[39mcrest\u001b[39;49m\u001b[39m'\u001b[39;49m);\n\u001b[1;32m      9\u001b[0m ax\u001b[39m.\u001b[39mset_xticklabels(ax\u001b[39m.\u001b[39mget_xticklabels(), rotation\u001b[39m=\u001b[39m\u001b[39m45\u001b[39m, ha \u001b[39m=\u001b[39m\u001b[39m'\u001b[39m\u001b[39mright\u001b[39m\u001b[39m'\u001b[39m)\n\u001b[1;32m     10\u001b[0m plt\u001b[39m.\u001b[39mtitle(\u001b[39m\"\u001b[39m\u001b[39mDelay time of most frequently collapsed bridges, sorted by delay time\u001b[39m\u001b[39m\"\u001b[39m);\n",
      "File \u001b[0;32m~/opt/anaconda3/envs/gds/lib/python3.9/site-packages/seaborn/categorical.py:2755\u001b[0m, in \u001b[0;36mbarplot\u001b[0;34m(data, x, y, hue, order, hue_order, estimator, errorbar, n_boot, units, seed, orient, color, palette, saturation, width, errcolor, errwidth, capsize, dodge, ci, ax, **kwargs)\u001b[0m\n\u001b[1;32m   2752\u001b[0m \u001b[39mif\u001b[39;00m estimator \u001b[39mis\u001b[39;00m \u001b[39mlen\u001b[39m:\n\u001b[1;32m   2753\u001b[0m     estimator \u001b[39m=\u001b[39m \u001b[39m\"\u001b[39m\u001b[39msize\u001b[39m\u001b[39m\"\u001b[39m\n\u001b[0;32m-> 2755\u001b[0m plotter \u001b[39m=\u001b[39m _BarPlotter(x, y, hue, data, order, hue_order,\n\u001b[1;32m   2756\u001b[0m                       estimator, errorbar, n_boot, units, seed,\n\u001b[1;32m   2757\u001b[0m                       orient, color, palette, saturation,\n\u001b[1;32m   2758\u001b[0m                       width, errcolor, errwidth, capsize, dodge)\n\u001b[1;32m   2760\u001b[0m \u001b[39mif\u001b[39;00m ax \u001b[39mis\u001b[39;00m \u001b[39mNone\u001b[39;00m:\n\u001b[1;32m   2761\u001b[0m     ax \u001b[39m=\u001b[39m plt\u001b[39m.\u001b[39mgca()\n",
      "File \u001b[0;32m~/opt/anaconda3/envs/gds/lib/python3.9/site-packages/seaborn/categorical.py:1532\u001b[0m, in \u001b[0;36m_BarPlotter.__init__\u001b[0;34m(self, x, y, hue, data, order, hue_order, estimator, errorbar, n_boot, units, seed, orient, color, palette, saturation, width, errcolor, errwidth, capsize, dodge)\u001b[0m\n\u001b[1;32m   1529\u001b[0m \u001b[39m\"\"\"Initialize the plotter.\"\"\"\u001b[39;00m\n\u001b[1;32m   1530\u001b[0m \u001b[39mself\u001b[39m\u001b[39m.\u001b[39mestablish_variables(x, y, hue, data, orient,\n\u001b[1;32m   1531\u001b[0m                          order, hue_order, units)\n\u001b[0;32m-> 1532\u001b[0m \u001b[39mself\u001b[39;49m\u001b[39m.\u001b[39;49mestablish_colors(color, palette, saturation)\n\u001b[1;32m   1533\u001b[0m \u001b[39mself\u001b[39m\u001b[39m.\u001b[39mestimate_statistic(estimator, errorbar, n_boot, seed)\n\u001b[1;32m   1535\u001b[0m \u001b[39mself\u001b[39m\u001b[39m.\u001b[39mdodge \u001b[39m=\u001b[39m dodge\n",
      "File \u001b[0;32m~/opt/anaconda3/envs/gds/lib/python3.9/site-packages/seaborn/categorical.py:707\u001b[0m, in \u001b[0;36m_CategoricalPlotter.establish_colors\u001b[0;34m(self, color, palette, saturation)\u001b[0m\n\u001b[1;32m    705\u001b[0m \u001b[39m# Determine the gray color to use for the lines framing the plot\u001b[39;00m\n\u001b[1;32m    706\u001b[0m light_vals \u001b[39m=\u001b[39m [rgb_to_hls(\u001b[39m*\u001b[39mc)[\u001b[39m1\u001b[39m] \u001b[39mfor\u001b[39;00m c \u001b[39min\u001b[39;00m rgb_colors]\n\u001b[0;32m--> 707\u001b[0m lum \u001b[39m=\u001b[39m \u001b[39mmin\u001b[39;49m(light_vals) \u001b[39m*\u001b[39m \u001b[39m.6\u001b[39m\n\u001b[1;32m    708\u001b[0m gray \u001b[39m=\u001b[39m mpl\u001b[39m.\u001b[39mcolors\u001b[39m.\u001b[39mrgb2hex((lum, lum, lum))\n\u001b[1;32m    710\u001b[0m \u001b[39m# Assign object attributes\u001b[39;00m\n",
      "\u001b[0;31mValueError\u001b[0m: min() arg is an empty sequence"
     ]
    }
   ],
   "source": [
    "# rename columns for better naming in the plot \n",
    "worst_bridges = worst_bridges.rename(columns={\"Worst bridge name\":\"bridge name\", \n",
    "                                           \"Worst bridge delay\":\"delay in hours\"})\n",
    "\n",
    "sns.set_style('darkgrid')\n",
    "#sns.dark_palette(\"seagreen\", n_colors=len(worst_bridges), start=2)\n",
    "\n",
    "ax = sns.barplot(x='bridge name', y='delay in hours', data=worst_bridges, palette='crest');\n",
    "ax.set_xticklabels(ax.get_xticklabels(), rotation=45, ha ='right')\n",
    "plt.title(\"Delay time of most frequently collapsed bridges, sorted by delay time\");\n",
    "plt.savefig('delay_time_of_worst_bridged.png')"
   ]
  },
  {
   "cell_type": "code",
   "execution_count": 66,
   "id": "76f0a143-9158-473f-b322-b11f3aec373c",
   "metadata": {},
   "outputs": [
    {
     "ename": "ValueError",
     "evalue": "min() arg is an empty sequence",
     "output_type": "error",
     "traceback": [
      "\u001b[0;31m---------------------------------------------------------------------------\u001b[0m",
      "\u001b[0;31mValueError\u001b[0m                                Traceback (most recent call last)",
      "Cell \u001b[0;32mIn[66], line 11\u001b[0m\n\u001b[1;32m      7\u001b[0m worst3_bridges \u001b[39m=\u001b[39m worst3_bridges\u001b[39m.\u001b[39mrename(columns\u001b[39m=\u001b[39m{\u001b[39m\"\u001b[39m\u001b[39mWorst bridge name\u001b[39m\u001b[39m\"\u001b[39m:\u001b[39m\"\u001b[39m\u001b[39mbridge name\u001b[39m\u001b[39m\"\u001b[39m, \n\u001b[1;32m      8\u001b[0m                                            \u001b[39m\"\u001b[39m\u001b[39mWorst bridge delay\u001b[39m\u001b[39m\"\u001b[39m:\u001b[39m\"\u001b[39m\u001b[39mdelay in hours\u001b[39m\u001b[39m\"\u001b[39m})\n\u001b[1;32m     10\u001b[0m fig, ax \u001b[39m=\u001b[39m plt\u001b[39m.\u001b[39msubplots(figsize\u001b[39m=\u001b[39m(\u001b[39m8\u001b[39m, \u001b[39m6\u001b[39m))\n\u001b[0;32m---> 11\u001b[0m sns\u001b[39m.\u001b[39;49mboxplot(x\u001b[39m=\u001b[39;49mworst3_bridges[\u001b[39m\"\u001b[39;49m\u001b[39mdelay in hours\u001b[39;49m\u001b[39m\"\u001b[39;49m], y\u001b[39m=\u001b[39;49mworst3_bridges[\u001b[39m\"\u001b[39;49m\u001b[39mbridge name\u001b[39;49m\u001b[39m\"\u001b[39;49m], orient\u001b[39m=\u001b[39;49m\u001b[39m\"\u001b[39;49m\u001b[39mh\u001b[39;49m\u001b[39m\"\u001b[39;49m, palette \u001b[39m=\u001b[39;49m\u001b[39m\"\u001b[39;49m\u001b[39mcrest\u001b[39;49m\u001b[39m\"\u001b[39;49m)\n\u001b[1;32m     12\u001b[0m \u001b[39m'\u001b[39m\u001b[39mplt.tight_layout()\u001b[39m\u001b[39m'\u001b[39m\n\u001b[1;32m     13\u001b[0m plt\u001b[39m.\u001b[39mtitle(\u001b[39m\"\u001b[39m\u001b[39mDelay time of the 3 most frequently collapsed bridges\u001b[39m\u001b[39m\"\u001b[39m)\n",
      "File \u001b[0;32m~/opt/anaconda3/envs/gds/lib/python3.9/site-packages/seaborn/categorical.py:2231\u001b[0m, in \u001b[0;36mboxplot\u001b[0;34m(data, x, y, hue, order, hue_order, orient, color, palette, saturation, width, dodge, fliersize, linewidth, whis, ax, **kwargs)\u001b[0m\n\u001b[1;32m   2224\u001b[0m \u001b[39mdef\u001b[39;00m \u001b[39mboxplot\u001b[39m(\n\u001b[1;32m   2225\u001b[0m     data\u001b[39m=\u001b[39m\u001b[39mNone\u001b[39;00m, \u001b[39m*\u001b[39m, x\u001b[39m=\u001b[39m\u001b[39mNone\u001b[39;00m, y\u001b[39m=\u001b[39m\u001b[39mNone\u001b[39;00m, hue\u001b[39m=\u001b[39m\u001b[39mNone\u001b[39;00m, order\u001b[39m=\u001b[39m\u001b[39mNone\u001b[39;00m, hue_order\u001b[39m=\u001b[39m\u001b[39mNone\u001b[39;00m,\n\u001b[1;32m   2226\u001b[0m     orient\u001b[39m=\u001b[39m\u001b[39mNone\u001b[39;00m, color\u001b[39m=\u001b[39m\u001b[39mNone\u001b[39;00m, palette\u001b[39m=\u001b[39m\u001b[39mNone\u001b[39;00m, saturation\u001b[39m=\u001b[39m\u001b[39m.75\u001b[39m, width\u001b[39m=\u001b[39m\u001b[39m.8\u001b[39m,\n\u001b[1;32m   2227\u001b[0m     dodge\u001b[39m=\u001b[39m\u001b[39mTrue\u001b[39;00m, fliersize\u001b[39m=\u001b[39m\u001b[39m5\u001b[39m, linewidth\u001b[39m=\u001b[39m\u001b[39mNone\u001b[39;00m, whis\u001b[39m=\u001b[39m\u001b[39m1.5\u001b[39m, ax\u001b[39m=\u001b[39m\u001b[39mNone\u001b[39;00m,\n\u001b[1;32m   2228\u001b[0m     \u001b[39m*\u001b[39m\u001b[39m*\u001b[39mkwargs\n\u001b[1;32m   2229\u001b[0m ):\n\u001b[0;32m-> 2231\u001b[0m     plotter \u001b[39m=\u001b[39m _BoxPlotter(x, y, hue, data, order, hue_order,\n\u001b[1;32m   2232\u001b[0m                           orient, color, palette, saturation,\n\u001b[1;32m   2233\u001b[0m                           width, dodge, fliersize, linewidth)\n\u001b[1;32m   2235\u001b[0m     \u001b[39mif\u001b[39;00m ax \u001b[39mis\u001b[39;00m \u001b[39mNone\u001b[39;00m:\n\u001b[1;32m   2236\u001b[0m         ax \u001b[39m=\u001b[39m plt\u001b[39m.\u001b[39mgca()\n",
      "File \u001b[0;32m~/opt/anaconda3/envs/gds/lib/python3.9/site-packages/seaborn/categorical.py:786\u001b[0m, in \u001b[0;36m_BoxPlotter.__init__\u001b[0;34m(self, x, y, hue, data, order, hue_order, orient, color, palette, saturation, width, dodge, fliersize, linewidth)\u001b[0m\n\u001b[1;32m    781\u001b[0m \u001b[39mdef\u001b[39;00m \u001b[39m__init__\u001b[39m(\u001b[39mself\u001b[39m, x, y, hue, data, order, hue_order,\n\u001b[1;32m    782\u001b[0m              orient, color, palette, saturation,\n\u001b[1;32m    783\u001b[0m              width, dodge, fliersize, linewidth):\n\u001b[1;32m    785\u001b[0m     \u001b[39mself\u001b[39m\u001b[39m.\u001b[39mestablish_variables(x, y, hue, data, orient, order, hue_order)\n\u001b[0;32m--> 786\u001b[0m     \u001b[39mself\u001b[39;49m\u001b[39m.\u001b[39;49mestablish_colors(color, palette, saturation)\n\u001b[1;32m    788\u001b[0m     \u001b[39mself\u001b[39m\u001b[39m.\u001b[39mdodge \u001b[39m=\u001b[39m dodge\n\u001b[1;32m    789\u001b[0m     \u001b[39mself\u001b[39m\u001b[39m.\u001b[39mwidth \u001b[39m=\u001b[39m width\n",
      "File \u001b[0;32m~/opt/anaconda3/envs/gds/lib/python3.9/site-packages/seaborn/categorical.py:707\u001b[0m, in \u001b[0;36m_CategoricalPlotter.establish_colors\u001b[0;34m(self, color, palette, saturation)\u001b[0m\n\u001b[1;32m    705\u001b[0m \u001b[39m# Determine the gray color to use for the lines framing the plot\u001b[39;00m\n\u001b[1;32m    706\u001b[0m light_vals \u001b[39m=\u001b[39m [rgb_to_hls(\u001b[39m*\u001b[39mc)[\u001b[39m1\u001b[39m] \u001b[39mfor\u001b[39;00m c \u001b[39min\u001b[39;00m rgb_colors]\n\u001b[0;32m--> 707\u001b[0m lum \u001b[39m=\u001b[39m \u001b[39mmin\u001b[39;49m(light_vals) \u001b[39m*\u001b[39m \u001b[39m.6\u001b[39m\n\u001b[1;32m    708\u001b[0m gray \u001b[39m=\u001b[39m mpl\u001b[39m.\u001b[39mcolors\u001b[39m.\u001b[39mrgb2hex((lum, lum, lum))\n\u001b[1;32m    710\u001b[0m \u001b[39m# Assign object attributes\u001b[39;00m\n",
      "\u001b[0;31mValueError\u001b[0m: min() arg is an empty sequence"
     ]
    },
    {
     "data": {
      "image/png": "[encoded data removed]",
      "text/plain": [
       "<Figure size 800x600 with 1 Axes>"
      ]
     },
     "metadata": {},
     "output_type": "display_data"
    }
   ],
   "source": [
    "### show delaytime boxplots\n",
    "worst3_bridges = df.loc[(df[\"Worst bridge name\"] == \"KANCHPUR PC GIRDER BRIDGE\") | \n",
    "                               (df[\"Worst bridge name\"] == \"MEGHNA BRIDGE\") | \n",
    "                               (df[\"Worst bridge name\"] == \"Daud Kandi Bridge\")]\n",
    "\n",
    "# rename columns for better naming in the plot \n",
    "worst3_bridges = worst3_bridges.rename(columns={\"Worst bridge name\":\"bridge name\", \n",
    "                                           \"Worst bridge delay\":\"delay in hours\"})\n",
    "\n",
    "fig, ax = plt.subplots(figsize=(8, 6))\n",
    "sns.boxplot(x=worst3_bridges[\"delay in hours\"], y=worst3_bridges[\"bridge name\"], orient=\"h\", palette =\"crest\")\n",
    "'plt.tight_layout()'\n",
    "plt.title(\"Delay time of the 3 most frequently collapsed bridges\")\n",
    "plt.savefig('delay_time_3bridges.png')"
   ]
  },
  {
   "cell_type": "code",
   "execution_count": null,
   "id": "a4be7687",
   "metadata": {},
   "outputs": [],
   "source": []
  }
 ],
 "metadata": {
  "kernelspec": {
   "display_name": "gds",
   "language": "python",
   "name": "gds"
  },
  "language_info": {
   "codemirror_mode": {
    "name": "ipython",
    "version": 3
   },
   "file_extension": ".py",
   "mimetype": "text/x-python",
   "name": "python",
   "nbconvert_exporter": "python",
   "pygments_lexer": "ipython3",
   "version": "3.9.13"
  }
 },
 "nbformat": 4,
 "nbformat_minor": 5
}
