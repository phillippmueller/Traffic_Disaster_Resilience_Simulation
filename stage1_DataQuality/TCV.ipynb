{
 "cells": [
  {
   "cell_type": "code",
   "execution_count": 1,
   "id": "f0dde25e",
   "metadata": {},
   "outputs": [],
   "source": [
    "import pandas as pd\n",
    "import numpy as np\n",
    "import math\n",
    "import seaborn as sns\n",
    "import csv\n",
    "import matplotlib.pyplot as plt"
   ]
  },
  {
   "cell_type": "code",
   "execution_count": 2,
   "id": "77802783",
   "metadata": {},
   "outputs": [],
   "source": [
    "with open('data/_roads.tcv') as f:\n",
    "    reader = csv.reader(f, delimiter=\"\\t\")\n",
    "    data = list(reader)"
   ]
  },
  {
   "cell_type": "markdown",
   "id": "725febed",
   "metadata": {},
   "source": [
    "For easier processing, we convert the list based data into a pandas dataframe"
   ]
  },
  {
   "cell_type": "code",
   "execution_count": 3,
   "id": "47d0d59e",
   "metadata": {},
   "outputs": [],
   "source": [
    "data_list = []\n",
    "for ids in range(len(data)):\n",
    "    road = data[ids][0]\n",
    "    for triplet in range(1, len(data[ids]), 3):\n",
    "        lrp = data[ids][triplet]\n",
    "        lat = data[ids][triplet + 1]\n",
    "        lon = data[ids][triplet + 2]\n",
    "        lat = float(lat) if type(lat) != str else lat\n",
    "        lon = float(lon) if type(lon) != str else lon\n",
    "        data_list.append({'road': road, 'lrp': lrp, 'lat': lat, 'lon': lon})\n",
    "\n",
    "dataset = pd.DataFrame(data_list)"
   ]
  },
  {
   "cell_type": "code",
   "execution_count": 4,
   "id": "fa6b9520",
   "metadata": {},
   "outputs": [],
   "source": [
    "dataset=dataset.drop(index=0)\n",
    "dataset=dataset.drop(index=1)\n",
    "dataset=dataset.reset_index(drop=True)"
   ]
  },
  {
   "cell_type": "markdown",
   "id": "76ca1dc5",
   "metadata": {},
   "source": [
    "Now we can perform some basic checks for missing values and other obvious errors"
   ]
  },
  {
   "cell_type": "code",
   "execution_count": 5,
   "id": "19d31568",
   "metadata": {},
   "outputs": [
    {
     "data": {
      "text/plain": [
       "road    0\n",
       "lrp     0\n",
       "lat     0\n",
       "lon     0\n",
       "dtype: int64"
      ]
     },
     "execution_count": 5,
     "metadata": {},
     "output_type": "execute_result"
    }
   ],
   "source": [
    "dataset.isnull().sum()"
   ]
  },
  {
   "cell_type": "markdown",
   "id": "7d25c0ab",
   "metadata": {},
   "source": [
    "Since the tcv file stores all data as string, we have also read the data as a single string. In order to process this in pandas we need to convert the latitude and londitude data into float values."
   ]
  },
  {
   "cell_type": "code",
   "execution_count": 6,
   "id": "f09dd333",
   "metadata": {},
   "outputs": [],
   "source": [
    "#Converting all strings for data into floats\n",
    "for i in dataset.index:\n",
    "    if (type(dataset.road[i])!=str):\n",
    "        junk=dataset.loc[i]\n",
    "    if (type(dataset.lat[i])!=float):\n",
    "        dataset.loc[i,'lat']=float(dataset.loc[i,'lat'])\n",
    "        #print('via lat')\n",
    "    if (type(dataset.lon[i])!=float):\n",
    "        dataset.loc[i,'lon']=float(dataset.loc[i,'lon'])        \n",
    "        #print('via lon')"
   ]
  },
  {
   "cell_type": "code",
   "execution_count": 7,
   "id": "19889b45",
   "metadata": {},
   "outputs": [
    {
     "name": "stdout",
     "output_type": "stream",
     "text": [
      "{'Floats': 42661, 'Ints': 0, 'Strings': 0}\n",
      "42661\n"
     ]
    }
   ],
   "source": [
    "list_lat=dataset['lat'].unique()\n",
    "list_lon=dataset['lon'].unique()\n",
    "typeList={'Floats':0,'Ints':0,'Strings':0}\n",
    "for i in list_lat:\n",
    "    if type(i)==float:\n",
    "        typeList['Floats']+=1\n",
    "    if type(i)==str:\n",
    "        typeList['Strings']+=1\n",
    "    if type(i)==int:\n",
    "        typeList['Ints']+=1\n",
    "print(typeList)\n",
    "print(len(list_lat))"
   ]
  },
  {
   "cell_type": "code",
   "execution_count": 8,
   "id": "ea69993f",
   "metadata": {},
   "outputs": [],
   "source": [
    "roadMap=dataset"
   ]
  },
  {
   "cell_type": "code",
   "execution_count": 9,
   "id": "9e0b517b",
   "metadata": {},
   "outputs": [],
   "source": [
    "for road in roadMap['road'].unique():\n",
    "    for elem in roadMap.loc[roadMap['road'] == road].index:\n",
    "        # NOT first or last LRP\n",
    "        if elem != 0 and elem != 1 and elem != (len(roadMap.loc[roadMap['road'] == road])-1) and elem != (len(roadMap.loc[roadMap['road'] == road])-2):\n",
    "                    \n",
    "                #far from both neighbors\n",
    "            if abs(roadMap.loc[elem, 'lat'] - roadMap.loc[elem-2, 'lat']) > 0.1 and abs(roadMap.loc[elem, 'lat'] - roadMap.loc[elem+2, 'lat']) > 0.1 :  \n",
    "                    roadMap.loc[elem, 'lat'] = (roadMap.loc[elem-3, 'lat'] + roadMap.loc[elem+3, 'lat'])/2 # replace with average of neighbors\n",
    "                    roadMap.loc[elem, 'lon'] = (roadMap.loc[elem-3, 'lon'] + roadMap.loc[elem+3, 'lon'])/2 # replace with average of neighbors\n",
    "                    #print(road)\n",
    "                    \n",
    "                    #far from precursor only\n",
    "            elif abs(roadMap.loc[elem, 'lat'] - roadMap.loc[elem-2, 'lat']) > 0.1 and elem > 6: \n",
    "                if abs(roadMap.loc[elem+3, 'lat'] - (roadMap.loc[elem-3, 'lat'] + abs(roadMap.loc[elem-6, 'lat'] - roadMap.loc[elem-3, 'lat']))) < abs(roadMap.loc[elem+3, 'lat'] - roadMap.loc[elem, 'lat']): # if extending linear trend of previous datapoints brings outlier closer to successor\n",
    "                    roadMap.loc[elem, 'lat'] = roadMap.loc[elem-3, 'lat'] + abs(roadMap.loc[elem-6, 'lat'] - roadMap.loc[elem-3, 'lat'])\n",
    "                    roadMap.loc[elem, 'lon'] = roadMap.loc[elem-3, 'lon'] + abs(roadMap.loc[elem-6, 'lon'] - roadMap.loc[elem-3, 'lon'])\n",
    "                            \n",
    "            # last LRP\n",
    "            elif elem == len(roadMap.loc[roadMap['road'] == road])-1 or elem == len(roadMap.loc[roadMap['road'] == road])-2: \n",
    "                if abs(roadMap.loc[elem, 'lat'] - roadMap.loc[elem-3, 'lat']) > 0.1: #if far from precursor\n",
    "                    roadMap.loc[elem, 'lat'] = roadMap.loc[elem-3, 'lat'] + abs(roadMap.loc[elem-6, 'lat'] - roadMap.loc[elem-3, 'lat']) #replace with linear extension of precursors\n",
    "                    roadMap.loc[elem, 'lon'] = roadMap.loc[elem-3, 'lon'] + abs(roadMap.loc[elem-6, 'lon'] - roadMap.loc[elem-3, 'lon'])\n",
    "                    #print(road)\n",
    "           \n",
    "            # first LRP\n",
    "            elif elem == 0 or elem == 1: \n",
    "                if abs(roadMap.loc[elem, 'lat'] - roadMap.loc[elem+3, 'lat']) > 0.1: #if far from successor\n",
    "                    roadMap.loc[elem, 'lat'] = roadMap.loc[elem+3, 'lat'] - abs(roadMap.loc[elem+3, 'lat'] - roadMap.loc[elem+6, 'lat']) #replace with linear extension of successor\n",
    "                    roadMap.loc[elem, 'lon'] = roadMap.loc[elem+3, 'lon'] - abs(roadMap.loc[elem+3, 'lon'] - roadMap.loc[elem+6, 'lon'])\n"
   ]
  },
  {
   "cell_type": "code",
   "execution_count": 10,
   "id": "5d662d56",
   "metadata": {},
   "outputs": [],
   "source": [
    "highList=pd.unique(roadMap.road)\n",
    "stringTCV=['road\\tlrp1\\lat1\\tlon1\\tlat1\\tlon1\\n']\n",
    "for ID in highList:\n",
    "    road = roadMap.loc[roadMap.road==ID]\n",
    "    road=road.reset_index()\n",
    "    stringTCV+=ID\n",
    "    stringTCV+='\\t'\n",
    "    for point in road.index:\n",
    "        stringTCV+=roadMap.loc[point,'lrp']\n",
    "        stringTCV+='\\t'\n",
    "        stringTCV+=str(roadMap.loc[point,'lat'])\n",
    "        stringTCV+='\\t'\n",
    "        stringTCV+=str(roadMap.loc[point,'lon'])\n",
    "        stringTCV+='\\t'\n",
    "    stringTCV+='\\n'\n",
    "        "
   ]
  },
  {
   "cell_type": "code",
   "execution_count": 11,
   "id": "523bc0a9",
   "metadata": {},
   "outputs": [],
   "source": [
    "strings = ''.join(stringTCV)"
   ]
  },
  {
   "cell_type": "code",
   "execution_count": 13,
   "id": "0db227d6",
   "metadata": {},
   "outputs": [],
   "source": [
    "roadMap.to_csv('data/processed/_roads.tcv', sep='\\t', index=False)"
   ]
  }
 ],
 "metadata": {
  "kernelspec": {
   "display_name": "datascience",
   "language": "python",
   "name": "python3"
  },
  "language_info": {
   "codemirror_mode": {
    "name": "ipython",
    "version": 3
   },
   "file_extension": ".py",
   "mimetype": "text/x-python",
   "name": "python",
   "nbconvert_exporter": "python",
   "pygments_lexer": "ipython3",
   "version": "3.11.5"
  }
 },
 "nbformat": 4,
 "nbformat_minor": 5
}
